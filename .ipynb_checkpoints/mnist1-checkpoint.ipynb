{
 "cells": [
  {
   "cell_type": "code",
   "execution_count": 8,
   "id": "fa266ebe-0070-4922-a38f-d5ff3c54642d",
   "metadata": {},
   "outputs": [],
   "source": [
    "from fastai.vision.all import *\n",
    "\n",
    "matplotlib.rc('image', cmap='Greys')"
   ]
  },
  {
   "cell_type": "markdown",
   "id": "f9c00b56-8f16-4126-9a05-a77a05d20d55",
   "metadata": {},
   "source": [
    "### Outline of steps taken in this project\n",
    "---\n",
    "1. Get the image paths\n",
    "    - Create tensors from the images\n",
    "2. Load the training and validation images using DataLoader\n",
    "3. Loss function\n",
    "4. Linear model\n",
    "5. Batch accuracy\n",
    "6. Validate epoch\n",
    "7. Optimizer (or you could manually update params in `train_epoch`) and then one epoch trainer\n",
    "8. Train model function with options for `epochs` and `lr`"
   ]
  },
  {
   "cell_type": "markdown",
   "id": "7123a267-73ad-4647-90dc-1c27d65a1933",
   "metadata": {
    "tags": []
   },
   "source": [
    "### 1. Get the image paths"
   ]
  },
  {
   "cell_type": "code",
   "execution_count": 9,
   "id": "0b94c3e5-b714-412f-8602-aec68b0b2ef5",
   "metadata": {
    "tags": []
   },
   "outputs": [
    {
     "data": {
      "text/plain": [
       "(#3) [Path('/home/suchitg/.fastai/data/mnist_sample/train'),Path('/home/suchitg/.fastai/data/mnist_sample/valid'),Path('/home/suchitg/.fastai/data/mnist_sample/labels.csv')]"
      ]
     },
     "execution_count": 9,
     "metadata": {},
     "output_type": "execute_result"
    }
   ],
   "source": [
    "path = untar_data(URLs.MNIST_SAMPLE)\n",
    "path.ls()"
   ]
  },
  {
   "cell_type": "code",
   "execution_count": 10,
   "id": "4cae7a12-5506-486b-b950-9bc75399aad1",
   "metadata": {
    "tags": []
   },
   "outputs": [
    {
     "data": {
      "text/plain": [
       "torch.Size([28, 28])"
      ]
     },
     "execution_count": 10,
     "metadata": {},
     "output_type": "execute_result"
    }
   ],
   "source": [
    "t = list((path/'valid'/'3').ls())[0]\n",
    "tensor(Image.open(t)).shape"
   ]
  },
  {
   "cell_type": "code",
   "execution_count": 11,
   "id": "d9fbafb2-848c-4dd0-ae40-876cbda0412a",
   "metadata": {
    "tags": []
   },
   "outputs": [
    {
     "data": {
      "text/plain": [
       "(torch.Size([6131, 28, 28]),\n",
       " torch.Size([1010, 28, 28]),\n",
       " torch.Size([6265, 28, 28]),\n",
       " torch.Size([1028, 28, 28]),\n",
       " torch.Size([12396, 784]),\n",
       " torch.Size([2038, 784]),\n",
       " torch.Size([12396, 1]),\n",
       " torch.Size([2038, 1]))"
      ]
     },
     "execution_count": 11,
     "metadata": {},
     "output_type": "execute_result"
    }
   ],
   "source": [
    "train_3 = torch.stack([tensor(Image.open(o)) for o in (path/'train'/'3').ls()]).float() / 255\n",
    "valid_3 = torch.stack([tensor(Image.open(o)) for o in (path/'valid'/'3').ls()]).float() / 255\n",
    "train_7 = torch.stack([tensor(Image.open(o)) for o in (path/'train'/'7').ls()]).float() / 255\n",
    "valid_7 = torch.stack([tensor(Image.open(o)) for o in (path/'valid'/'7').ls()]).float() / 255\n",
    "\n",
    "train_x = torch.cat((train_3, train_7)).view(-1, 28*28)\n",
    "valid_x = torch.cat((valid_3, valid_7)).view(-1, 28*28)\n",
    "train_y = tensor(len(train_3)*[1] + len(train_7)*[0]).unsqueeze(1)\n",
    "valid_y = tensor(len(valid_3)*[1] + len(valid_7)*[0]).unsqueeze(1)\n",
    "\n",
    "train_3.shape, valid_3.shape, train_7.shape, valid_7.shape, train_x.shape, valid_x.shape, train_y.shape, valid_y.shape"
   ]
  },
  {
   "cell_type": "code",
   "execution_count": 12,
   "id": "37d6e7ed-d670-4c3a-97b4-6200dda9dd0d",
   "metadata": {
    "collapsed": true,
    "jupyter": {
     "outputs_hidden": true
    },
    "tags": []
   },
   "outputs": [
    {
     "data": {
      "text/plain": [
       "([(tensor([0.0000, 0.0000, 0.0000, 0.0000, 0.0000, 0.0000, 0.0000, 0.0000, 0.0000,\n",
       "           0.0000, 0.0000, 0.0000, 0.0000, 0.0000, 0.0000, 0.0000, 0.0000, 0.0000,\n",
       "           0.0000, 0.0000, 0.0000, 0.0000, 0.0000, 0.0000, 0.0000, 0.0000, 0.0000,\n",
       "           0.0000, 0.0000, 0.0000, 0.0000, 0.0000, 0.0000, 0.0000, 0.0000, 0.0000,\n",
       "           0.0000, 0.0000, 0.0000, 0.0000, 0.0000, 0.0000, 0.0000, 0.0000, 0.0000,\n",
       "           0.0000, 0.0000, 0.0000, 0.0000, 0.0000, 0.0000, 0.0000, 0.0000, 0.0000,\n",
       "           0.0000, 0.0000, 0.0000, 0.0000, 0.0000, 0.0000, 0.0000, 0.0000, 0.0000,\n",
       "           0.0000, 0.0000, 0.0000, 0.0000, 0.0000, 0.0000, 0.0000, 0.0000, 0.0000,\n",
       "           0.0000, 0.0000, 0.0000, 0.0000, 0.0000, 0.0000, 0.0000, 0.0000, 0.0000,\n",
       "           0.0000, 0.0000, 0.0000, 0.0000, 0.0000, 0.0000, 0.0000, 0.0000, 0.0000,\n",
       "           0.0000, 0.0000, 0.0000, 0.0000, 0.0000, 0.0000, 0.0000, 0.0000, 0.0000,\n",
       "           0.0000, 0.0000, 0.0000, 0.0000, 0.0000, 0.0000, 0.0000, 0.0000, 0.0000,\n",
       "           0.0000, 0.0000, 0.0000, 0.0000, 0.0000, 0.0000, 0.0000, 0.0000, 0.0000,\n",
       "           0.0000, 0.0000, 0.0000, 0.0000, 0.0000, 0.0000, 0.0000, 0.0000, 0.0000,\n",
       "           0.0000, 0.0000, 0.0000, 0.0000, 0.0000, 0.0000, 0.0000, 0.0000, 0.0000,\n",
       "           0.0000, 0.0000, 0.0000, 0.0000, 0.0000, 0.0000, 0.0000, 0.0000, 0.0000,\n",
       "           0.0000, 0.3961, 0.4431, 0.4431, 0.7490, 1.0000, 0.9922, 0.8706, 0.7490,\n",
       "           0.4431, 0.4471, 0.0471, 0.0000, 0.0000, 0.0000, 0.0000, 0.0000, 0.0000,\n",
       "           0.0000, 0.0000, 0.0000, 0.0000, 0.0000, 0.0000, 0.0000, 0.0000, 0.0000,\n",
       "           0.0000, 0.5765, 0.9765, 0.9882, 0.9882, 0.9882, 0.9922, 0.9882, 0.9882,\n",
       "           0.9882, 0.9882, 0.9922, 0.8941, 0.7569, 0.2980, 0.0000, 0.0000, 0.0000,\n",
       "           0.0000, 0.0000, 0.0000, 0.0000, 0.0000, 0.0000, 0.0000, 0.0000, 0.0000,\n",
       "           0.0000, 0.0000, 0.9922, 0.9882, 0.9882, 0.9882, 0.9882, 0.9922, 0.9882,\n",
       "           0.9882, 0.9882, 0.9882, 0.9922, 0.9882, 0.9882, 0.8745, 0.0000, 0.0000,\n",
       "           0.0000, 0.0000, 0.0000, 0.0000, 0.0000, 0.0000, 0.0000, 0.0000, 0.0000,\n",
       "           0.0000, 0.0000, 0.0000, 0.5725, 0.8745, 0.8745, 0.8745, 0.5686, 0.3294,\n",
       "           0.8549, 0.9882, 0.9882, 0.9882, 0.9922, 0.9882, 0.9882, 0.8745, 0.0000,\n",
       "           0.0000, 0.0000, 0.0000, 0.0000, 0.0000, 0.0000, 0.0000, 0.0000, 0.0000,\n",
       "           0.0000, 0.0000, 0.0000, 0.0000, 0.0000, 0.0000, 0.0000, 0.0000, 0.0000,\n",
       "           0.0000, 0.6392, 0.9882, 0.9882, 0.9882, 0.9922, 0.9882, 0.9882, 0.5686,\n",
       "           0.0000, 0.0000, 0.0000, 0.0000, 0.0000, 0.0000, 0.0000, 0.0000, 0.0000,\n",
       "           0.0000, 0.0000, 0.0000, 0.0000, 0.0000, 0.0000, 0.0000, 0.0000, 0.0000,\n",
       "           0.0000, 0.6902, 0.9922, 0.9922, 0.9922, 0.9922, 1.0000, 0.9922, 0.7686,\n",
       "           0.0000, 0.0000, 0.0000, 0.0000, 0.0000, 0.0000, 0.0000, 0.0000, 0.0000,\n",
       "           0.0000, 0.0000, 0.0000, 0.0000, 0.0000, 0.0000, 0.0000, 0.0000, 0.0000,\n",
       "           0.0000, 0.4941, 0.9922, 0.9882, 0.9882, 0.9882, 0.9882, 0.9922, 0.9882,\n",
       "           0.4627, 0.0000, 0.0000, 0.0000, 0.0000, 0.0000, 0.0000, 0.0000, 0.0000,\n",
       "           0.0000, 0.0000, 0.0000, 0.0000, 0.0000, 0.0000, 0.0000, 0.0000, 0.0000,\n",
       "           0.0000, 0.0000, 0.5490, 0.9922, 0.9882, 0.9882, 0.9882, 0.9882, 0.9922,\n",
       "           0.9882, 0.9373, 0.4039, 0.0980, 0.0000, 0.0000, 0.0000, 0.0000, 0.0000,\n",
       "           0.0000, 0.0000, 0.0000, 0.0000, 0.0000, 0.0000, 0.0000, 0.0000, 0.0000,\n",
       "           0.0000, 0.0000, 0.0000, 0.1843, 0.8824, 0.9765, 0.9882, 0.9882, 0.9882,\n",
       "           0.9922, 0.9882, 0.9882, 0.9882, 0.8039, 0.6627, 0.1333, 0.0000, 0.0000,\n",
       "           0.0000, 0.0000, 0.0000, 0.0000, 0.0000, 0.0000, 0.0000, 0.0000, 0.0000,\n",
       "           0.0000, 0.0000, 0.0000, 0.0000, 0.0000, 0.0000, 0.3922, 0.5569, 0.9882,\n",
       "           0.9882, 0.9922, 0.9882, 0.9882, 0.9882, 0.9882, 0.9922, 0.8392, 0.4314,\n",
       "           0.0000, 0.0000, 0.0000, 0.0000, 0.0000, 0.0000, 0.0000, 0.0000, 0.0000,\n",
       "           0.0000, 0.0000, 0.0000, 0.0000, 0.0000, 0.0000, 0.0000, 0.0000, 0.0000,\n",
       "           0.0000, 0.0000, 0.2471, 0.9451, 0.9922, 0.9922, 0.9922, 1.0000, 0.9922,\n",
       "           0.9922, 0.6235, 0.1961, 0.0000, 0.0000, 0.0000, 0.0000, 0.0000, 0.0000,\n",
       "           0.0000, 0.0000, 0.0000, 0.0000, 0.0000, 0.0000, 0.0000, 0.0000, 0.0000,\n",
       "           0.0000, 0.0000, 0.0000, 0.0000, 0.0941, 0.5333, 0.6941, 0.9882, 0.9922,\n",
       "           0.9882, 0.9882, 0.9882, 0.4392, 0.0000, 0.0000, 0.0000, 0.0000, 0.0000,\n",
       "           0.0000, 0.0000, 0.0000, 0.0000, 0.0000, 0.0000, 0.0000, 0.0000, 0.0000,\n",
       "           0.0000, 0.0000, 0.0000, 0.0000, 0.0000, 0.0000, 0.0000, 0.0275, 0.5216,\n",
       "           0.8706, 0.9882, 0.9882, 0.9882, 0.4392, 0.0000, 0.0000, 0.0000, 0.0000,\n",
       "           0.0000, 0.0000, 0.0000, 0.0000, 0.0000, 0.0000, 0.0000, 0.0000, 0.0000,\n",
       "           0.0000, 0.0000, 0.0000, 0.0000, 0.0000, 0.0000, 0.0000, 0.0000, 0.0000,\n",
       "           0.0000, 0.1490, 0.9176, 0.9882, 0.9882, 0.5020, 0.0000, 0.0000, 0.0000,\n",
       "           0.0000, 0.0000, 0.0000, 0.0000, 0.0000, 0.0000, 0.0000, 0.0000, 0.0000,\n",
       "           0.0000, 0.0000, 0.0000, 0.0000, 0.0000, 0.0000, 0.0000, 0.0000, 0.0000,\n",
       "           0.0000, 0.0000, 0.5529, 0.9412, 0.9882, 0.9882, 0.9882, 0.0000, 0.0000,\n",
       "           0.0000, 0.0000, 0.0000, 0.0000, 0.0000, 0.0000, 0.0000, 0.0000, 0.0000,\n",
       "           0.0000, 0.0000, 0.0000, 0.2471, 0.0000, 0.0000, 0.0000, 0.0000, 0.1490,\n",
       "           0.4431, 0.5020, 0.9922, 1.0000, 0.9922, 0.9922, 0.9922, 0.7451, 0.0000,\n",
       "           0.0000, 0.0000, 0.0000, 0.0000, 0.0000, 0.0000, 0.0000, 0.0000, 0.0000,\n",
       "           0.2000, 0.8824, 0.8824, 0.8863, 0.9412, 0.8824, 0.8824, 0.8824, 0.8863,\n",
       "           0.9176, 0.9882, 0.9882, 0.9882, 0.9922, 0.9882, 0.9882, 0.9490, 0.2902,\n",
       "           0.0000, 0.0000, 0.0000, 0.0000, 0.0000, 0.0000, 0.0000, 0.0000, 0.0000,\n",
       "           0.0000, 0.1725, 0.9137, 0.9882, 0.9922, 0.9882, 0.9882, 0.9882, 0.9882,\n",
       "           0.9922, 0.9882, 0.9882, 0.9882, 0.9882, 0.9922, 0.9882, 0.8157, 0.1922,\n",
       "           0.0000, 0.0000, 0.0000, 0.0000, 0.0000, 0.0000, 0.0000, 0.0000, 0.0000,\n",
       "           0.0000, 0.0000, 0.0000, 0.2824, 0.8745, 0.8824, 0.9137, 0.9882, 0.9882,\n",
       "           0.9882, 0.9922, 0.9882, 0.9882, 0.9882, 0.9882, 0.8824, 0.6902, 0.2549,\n",
       "           0.0000, 0.0000, 0.0000, 0.0000, 0.0000, 0.0000, 0.0000, 0.0000, 0.0000,\n",
       "           0.0000, 0.0000, 0.0000, 0.0000, 0.0000, 0.0000, 0.0000, 0.1490, 0.4392,\n",
       "           0.4392, 0.4392, 0.4392, 0.4392, 0.4392, 0.4392, 0.4392, 0.0000, 0.0000,\n",
       "           0.0000, 0.0000, 0.0000, 0.0000, 0.0000, 0.0000, 0.0000, 0.0000, 0.0000,\n",
       "           0.0000, 0.0000, 0.0000, 0.0000, 0.0000, 0.0000, 0.0000, 0.0000, 0.0000,\n",
       "           0.0000, 0.0000, 0.0000, 0.0000, 0.0000, 0.0000, 0.0000, 0.0000, 0.0000,\n",
       "           0.0000, 0.0000, 0.0000, 0.0000, 0.0000, 0.0000, 0.0000, 0.0000, 0.0000,\n",
       "           0.0000, 0.0000, 0.0000, 0.0000, 0.0000, 0.0000, 0.0000, 0.0000, 0.0000,\n",
       "           0.0000, 0.0000, 0.0000, 0.0000, 0.0000, 0.0000, 0.0000, 0.0000, 0.0000,\n",
       "           0.0000, 0.0000, 0.0000, 0.0000, 0.0000, 0.0000, 0.0000, 0.0000, 0.0000,\n",
       "           0.0000, 0.0000, 0.0000, 0.0000, 0.0000, 0.0000, 0.0000, 0.0000, 0.0000,\n",
       "           0.0000, 0.0000, 0.0000, 0.0000, 0.0000, 0.0000, 0.0000, 0.0000, 0.0000,\n",
       "           0.0000, 0.0000, 0.0000, 0.0000, 0.0000, 0.0000, 0.0000, 0.0000, 0.0000,\n",
       "           0.0000]),\n",
       "   tensor([1]))],\n",
       " 12396)"
      ]
     },
     "execution_count": 12,
     "metadata": {},
     "output_type": "execute_result"
    }
   ],
   "source": [
    "train_dset = list(zip(train_x, train_y))\n",
    "train_dset[:1], len(train_dset)"
   ]
  },
  {
   "cell_type": "code",
   "execution_count": 13,
   "id": "fef34804-c10d-4b7d-bcbd-7a9e6654c476",
   "metadata": {
    "tags": []
   },
   "outputs": [
    {
     "data": {
      "text/plain": [
       "(torch.Size([784]), torch.Size([1]))"
      ]
     },
     "execution_count": 13,
     "metadata": {},
     "output_type": "execute_result"
    }
   ],
   "source": [
    "x, y = train_dset[0]\n",
    "x.shape, y.shape"
   ]
  },
  {
   "cell_type": "code",
   "execution_count": 14,
   "id": "393a8151-628d-4838-9a3a-916639ccdf99",
   "metadata": {
    "collapsed": true,
    "jupyter": {
     "outputs_hidden": true
    },
    "tags": []
   },
   "outputs": [
    {
     "data": {
      "text/plain": [
       "[(tensor([0.0000, 0.0000, 0.0000, 0.0000, 0.0000, 0.0000, 0.0000, 0.0000, 0.0000,\n",
       "          0.0000, 0.0000, 0.0000, 0.0000, 0.0000, 0.0000, 0.0000, 0.0000, 0.0000,\n",
       "          0.0000, 0.0000, 0.0000, 0.0000, 0.0000, 0.0000, 0.0000, 0.0000, 0.0000,\n",
       "          0.0000, 0.0000, 0.0000, 0.0000, 0.0000, 0.0000, 0.0000, 0.0000, 0.0000,\n",
       "          0.0000, 0.0000, 0.0000, 0.0000, 0.0000, 0.0000, 0.0000, 0.0000, 0.0000,\n",
       "          0.0000, 0.0000, 0.0000, 0.0000, 0.0000, 0.0000, 0.0000, 0.0000, 0.0000,\n",
       "          0.0000, 0.0000, 0.0000, 0.0000, 0.0000, 0.0000, 0.0000, 0.0000, 0.0000,\n",
       "          0.0000, 0.0000, 0.0000, 0.0000, 0.0000, 0.0000, 0.0000, 0.0000, 0.0000,\n",
       "          0.0000, 0.0000, 0.0000, 0.0000, 0.0000, 0.0000, 0.0000, 0.0000, 0.0000,\n",
       "          0.0000, 0.0000, 0.0000, 0.0000, 0.0000, 0.0000, 0.0000, 0.0000, 0.0000,\n",
       "          0.0000, 0.0000, 0.0000, 0.0000, 0.0000, 0.0000, 0.0000, 0.0000, 0.0000,\n",
       "          0.0000, 0.0000, 0.0000, 0.0000, 0.0000, 0.0000, 0.0000, 0.0000, 0.0000,\n",
       "          0.0000, 0.0000, 0.0000, 0.0000, 0.0000, 0.0000, 0.0000, 0.0000, 0.0000,\n",
       "          0.0000, 0.0000, 0.0000, 0.0000, 0.0000, 0.0000, 0.0000, 0.0000, 0.0000,\n",
       "          0.0000, 0.0000, 0.0000, 0.0000, 0.0000, 0.0000, 0.0000, 0.0000, 0.0000,\n",
       "          0.0000, 0.0000, 0.0000, 0.0000, 0.0000, 0.0000, 0.0000, 0.0000, 0.0000,\n",
       "          0.4235, 0.9961, 0.9961, 0.7333, 0.0000, 0.0000, 0.0000, 0.0000, 0.0000,\n",
       "          0.0000, 0.0000, 0.0000, 0.0000, 0.0000, 0.0000, 0.0000, 0.0000, 0.0000,\n",
       "          0.0000, 0.0000, 0.0000, 0.0000, 0.0000, 0.0000, 0.0000, 0.0000, 0.0000,\n",
       "          0.0000, 0.4235, 0.9922, 0.9922, 0.9804, 0.5569, 0.3569, 0.0000, 0.0000,\n",
       "          0.0000, 0.4235, 0.0235, 0.3804, 0.4235, 0.5569, 0.9451, 0.9451, 0.5686,\n",
       "          0.0000, 0.0000, 0.0000, 0.0000, 0.0000, 0.0000, 0.0000, 0.0000, 0.0000,\n",
       "          0.0000, 0.0000, 0.0431, 0.9020, 0.9922, 0.9922, 0.9922, 0.9765, 0.8941,\n",
       "          0.8941, 0.8941, 0.9961, 0.8980, 0.9843, 0.9922, 0.9922, 0.9922, 0.9922,\n",
       "          0.9804, 0.5686, 0.0000, 0.0000, 0.0000, 0.0000, 0.0000, 0.0000, 0.0000,\n",
       "          0.0000, 0.0000, 0.0000, 0.0000, 0.1412, 0.5961, 0.7608, 0.9922, 0.9922,\n",
       "          0.9922, 0.9922, 0.9922, 0.9961, 0.9922, 0.9922, 0.9922, 0.7412, 0.9098,\n",
       "          0.9922, 0.9922, 0.9412, 0.0000, 0.0000, 0.0000, 0.0000, 0.0000, 0.0000,\n",
       "          0.0000, 0.0000, 0.0000, 0.0000, 0.0000, 0.0000, 0.0000, 0.0549, 0.2078,\n",
       "          0.5647, 0.7294, 0.7294, 0.7294, 0.4863, 0.2078, 0.2078, 0.2902, 0.4471,\n",
       "          0.9412, 0.9922, 0.9647, 0.4157, 0.0000, 0.0000, 0.0000, 0.0000, 0.0000,\n",
       "          0.0000, 0.0000, 0.0000, 0.0000, 0.0000, 0.0000, 0.0000, 0.0000, 0.0000,\n",
       "          0.0000, 0.0000, 0.0000, 0.0000, 0.0000, 0.0000, 0.2039, 0.4078, 0.8157,\n",
       "          0.9922, 0.9922, 0.9922, 0.7765, 0.0000, 0.0000, 0.0000, 0.0000, 0.0000,\n",
       "          0.0000, 0.0000, 0.0000, 0.0000, 0.0000, 0.0000, 0.0000, 0.0000, 0.0000,\n",
       "          0.0000, 0.1176, 0.1608, 0.2157, 0.6824, 0.6824, 0.6863, 0.9765, 0.9922,\n",
       "          0.9922, 0.9922, 0.9608, 0.4784, 0.1137, 0.0000, 0.0000, 0.0000, 0.0000,\n",
       "          0.0000, 0.0000, 0.0000, 0.0000, 0.0000, 0.0000, 0.0000, 0.0000, 0.0000,\n",
       "          0.0000, 0.1686, 0.8980, 0.9922, 0.9922, 0.9922, 0.9922, 0.9961, 0.9922,\n",
       "          0.9922, 0.9922, 0.8275, 0.2902, 0.0000, 0.0000, 0.0000, 0.0000, 0.0000,\n",
       "          0.0000, 0.0000, 0.0000, 0.0000, 0.0000, 0.0000, 0.0000, 0.0000, 0.0000,\n",
       "          0.0000, 0.0000, 0.2510, 0.9804, 0.9922, 0.9922, 0.9922, 0.9922, 0.9961,\n",
       "          0.9922, 0.9922, 0.9922, 0.8824, 0.4706, 0.0196, 0.0000, 0.0000, 0.0000,\n",
       "          0.0000, 0.0000, 0.0000, 0.0000, 0.0000, 0.0000, 0.0000, 0.0000, 0.0000,\n",
       "          0.0000, 0.0000, 0.0000, 0.0000, 0.3490, 0.4706, 0.4706, 0.4706, 0.4706,\n",
       "          0.4745, 0.4706, 0.9412, 0.9922, 0.9922, 0.9922, 0.5882, 0.0000, 0.0000,\n",
       "          0.0000, 0.0000, 0.0000, 0.0000, 0.0000, 0.0000, 0.0000, 0.0000, 0.0000,\n",
       "          0.0000, 0.0000, 0.0000, 0.0000, 0.0000, 0.0000, 0.0000, 0.0000, 0.0000,\n",
       "          0.0000, 0.0000, 0.0000, 0.0000, 0.1686, 0.6510, 0.9961, 1.0000, 0.8941,\n",
       "          0.0000, 0.0000, 0.0000, 0.0000, 0.0000, 0.0000, 0.0000, 0.0000, 0.0000,\n",
       "          0.0000, 0.0000, 0.0000, 0.0000, 0.0000, 0.0000, 0.0000, 0.0000, 0.0000,\n",
       "          0.0000, 0.0000, 0.0000, 0.0000, 0.0000, 0.0000, 0.0157, 0.5255, 0.9922,\n",
       "          0.9882, 0.6157, 0.0000, 0.0000, 0.0000, 0.0000, 0.0000, 0.0000, 0.0000,\n",
       "          0.0000, 0.0000, 0.0000, 0.0000, 0.0000, 0.0000, 0.0000, 0.0000, 0.0000,\n",
       "          0.0000, 0.0000, 0.0000, 0.0000, 0.0000, 0.0000, 0.0000, 0.0000, 0.0235,\n",
       "          0.7137, 0.9922, 0.9608, 0.1765, 0.0000, 0.0000, 0.0000, 0.0000, 0.0000,\n",
       "          0.0000, 0.0000, 0.0000, 0.1529, 0.8157, 0.0863, 0.0000, 0.0000, 0.0000,\n",
       "          0.0000, 0.0000, 0.0000, 0.0000, 0.0000, 0.0000, 0.0000, 0.0000, 0.0000,\n",
       "          0.0000, 0.6824, 0.9922, 0.9922, 0.4706, 0.0000, 0.0000, 0.0000, 0.0000,\n",
       "          0.0000, 0.0000, 0.0000, 0.0000, 0.4745, 0.9922, 0.1020, 0.0000, 0.0000,\n",
       "          0.0000, 0.0000, 0.0000, 0.0000, 0.0000, 0.0000, 0.0000, 0.0000, 0.0000,\n",
       "          0.0000, 0.0000, 0.6824, 0.9922, 0.9922, 0.4706, 0.0000, 0.0000, 0.0000,\n",
       "          0.0000, 0.0000, 0.0000, 0.0000, 0.0000, 0.4745, 0.9922, 0.1020, 0.0000,\n",
       "          0.0000, 0.0000, 0.0000, 0.0000, 0.0000, 0.0000, 0.0000, 0.0000, 0.0000,\n",
       "          0.0000, 0.0000, 0.0000, 0.6824, 0.9922, 0.9922, 0.4706, 0.0000, 0.0000,\n",
       "          0.0000, 0.0000, 0.0000, 0.0000, 0.0000, 0.0000, 0.4000, 0.9020, 0.7137,\n",
       "          0.1922, 0.0000, 0.0000, 0.0000, 0.0000, 0.0000, 0.0000, 0.0000, 0.0000,\n",
       "          0.0000, 0.0000, 0.0000, 0.2314, 0.8941, 0.9922, 0.9569, 0.1490, 0.0000,\n",
       "          0.0000, 0.0000, 0.0000, 0.0000, 0.0000, 0.0000, 0.0000, 0.0000, 0.3804,\n",
       "          0.9804, 0.8784, 0.4941, 0.0275, 0.0000, 0.0000, 0.0000, 0.0000, 0.0000,\n",
       "          0.0000, 0.0000, 0.0353, 0.5216, 0.8980, 0.9922, 0.9804, 0.5608, 0.0000,\n",
       "          0.0000, 0.0000, 0.0000, 0.0000, 0.0000, 0.0000, 0.0000, 0.0000, 0.0000,\n",
       "          0.0000, 0.8471, 0.9843, 0.9922, 0.6863, 0.4980, 0.0549, 0.0549, 0.0549,\n",
       "          0.0549, 0.2784, 0.5765, 0.7098, 0.9922, 0.9922, 0.9922, 0.8863, 0.0000,\n",
       "          0.0000, 0.0000, 0.0000, 0.0000, 0.0000, 0.0000, 0.0000, 0.0000, 0.0000,\n",
       "          0.0000, 0.0000, 0.0000, 0.5608, 0.9922, 0.9922, 0.9922, 0.9922, 0.9922,\n",
       "          0.9922, 1.0000, 0.9922, 0.9922, 0.9922, 0.9922, 0.9922, 0.9098, 0.4196,\n",
       "          0.0000, 0.0000, 0.0000, 0.0000, 0.0000, 0.0000, 0.0000, 0.0000, 0.0000,\n",
       "          0.0000, 0.0000, 0.0000, 0.0000, 0.0000, 0.0000, 0.0000, 0.0000, 0.0000,\n",
       "          0.0000, 0.0000, 0.0000, 0.0000, 0.0000, 0.0000, 0.0000, 0.0000, 0.0000,\n",
       "          0.0000, 0.0000, 0.0000, 0.0000, 0.0000, 0.0000, 0.0000, 0.0000, 0.0000,\n",
       "          0.0000, 0.0000, 0.0000, 0.0000, 0.0000, 0.0000, 0.0000, 0.0000, 0.0000,\n",
       "          0.0000, 0.0000, 0.0000, 0.0000, 0.0000, 0.0000, 0.0000, 0.0000, 0.0000,\n",
       "          0.0000, 0.0000, 0.0000, 0.0000, 0.0000, 0.0000, 0.0000, 0.0000, 0.0000,\n",
       "          0.0000, 0.0000, 0.0000, 0.0000, 0.0000, 0.0000, 0.0000, 0.0000, 0.0000,\n",
       "          0.0000, 0.0000, 0.0000, 0.0000, 0.0000, 0.0000, 0.0000, 0.0000, 0.0000,\n",
       "          0.0000, 0.0000, 0.0000, 0.0000, 0.0000, 0.0000, 0.0000, 0.0000, 0.0000,\n",
       "          0.0000]),\n",
       "  tensor([1]))]"
      ]
     },
     "execution_count": 14,
     "metadata": {},
     "output_type": "execute_result"
    }
   ],
   "source": [
    "valid_dset = list(zip(valid_x, valid_y))\n",
    "valid_dset[:1]"
   ]
  },
  {
   "cell_type": "markdown",
   "id": "8f093107-13b7-4c9c-bbbd-e1d6a1731006",
   "metadata": {},
   "source": [
    "### 2. Load the training and validation images using DataLoader"
   ]
  },
  {
   "cell_type": "code",
   "execution_count": 15,
   "id": "db1fea75-7fff-4d82-a750-add41967c59b",
   "metadata": {},
   "outputs": [],
   "source": [
    "train_dl = DataLoader(train_dset, batch_size=256, shuffle=True)\n",
    "valid_dl = DataLoader(valid_dset, batch_size=256, shuffle=False)\n",
    "\n",
    "dls = DataLoaders(train_dl, valid_dl)"
   ]
  },
  {
   "cell_type": "code",
   "execution_count": 16,
   "id": "f1866ebd-7bba-46e7-8614-c9cb09d858ab",
   "metadata": {
    "tags": []
   },
   "outputs": [
    {
     "data": {
      "text/plain": [
       "(torch.Size([256, 784]), torch.Size([256, 1]))"
      ]
     },
     "execution_count": 16,
     "metadata": {},
     "output_type": "execute_result"
    }
   ],
   "source": [
    "x, y = first(train_dl)\n",
    "x.shape, y.shape"
   ]
  },
  {
   "cell_type": "markdown",
   "id": "36baf13e-713c-48a3-a70b-666051d84939",
   "metadata": {
    "tags": []
   },
   "source": [
    "### 3. Initializing parameters and defining the loss function"
   ]
  },
  {
   "cell_type": "code",
   "execution_count": 36,
   "id": "169211fd-c691-4002-8fd0-c2d8dade008a",
   "metadata": {
    "tags": []
   },
   "outputs": [],
   "source": [
    "def init_params(size, std=1.0):\n",
    "    return (torch.randn(size)*std).requires_grad_()"
   ]
  },
  {
   "cell_type": "code",
   "execution_count": 48,
   "id": "18d89450-8ebd-445a-b5f0-413b6f74c23f",
   "metadata": {
    "tags": []
   },
   "outputs": [],
   "source": [
    "weights = init_params((28*28, 1))\n",
    "bias = init_params(1)"
   ]
  },
  {
   "cell_type": "code",
   "execution_count": 19,
   "id": "e23d8761-e249-4042-92db-e0250727f448",
   "metadata": {
    "tags": []
   },
   "outputs": [],
   "source": [
    "def mnist_loss(preds, targets):\n",
    "    preds = preds.sigmoid()\n",
    "    return ((preds-targets)**2).mean()"
   ]
  },
  {
   "cell_type": "markdown",
   "id": "deac1ef8-6718-4478-9a8f-4705b678e48f",
   "metadata": {},
   "source": [
    "### 4. Defining our model"
   ]
  },
  {
   "cell_type": "code",
   "execution_count": 20,
   "id": "0f9c6919-5cc1-452d-881e-14f066c74bf0",
   "metadata": {
    "tags": []
   },
   "outputs": [],
   "source": [
    "def linear1(xb): return xb@weights + bias"
   ]
  },
  {
   "cell_type": "markdown",
   "id": "bda61902-a83b-46c4-adf0-b2429f64bd8c",
   "metadata": {},
   "source": [
    "Here, xb is a batch of training data. As seen previously, `xb` has a shape of 12396x784, i.e., 12396 images stored as 12396 rows of tensors having 784 (28\\*28) elements. `weights` has a shape of 784\\*1. Therefore, applying matrix multiplication between `xb` and `weights` gives a resultant matrix (or tensor) with a shape of 12396x1."
   ]
  },
  {
   "cell_type": "markdown",
   "id": "a2dcd463-4b5e-4336-bb4a-e2474d7c555f",
   "metadata": {},
   "source": [
    "### 5. Batch accuracy"
   ]
  },
  {
   "cell_type": "markdown",
   "id": "1a723f3e-3677-4553-a66e-bb648f75992e",
   "metadata": {},
   "source": [
    "Returns the accuracy for a given set of predictions against the respective targets."
   ]
  },
  {
   "cell_type": "code",
   "execution_count": 21,
   "id": "5cd5f01e-1cee-4677-8657-cc4d56997ba0",
   "metadata": {
    "tags": []
   },
   "outputs": [],
   "source": [
    "def batch_accuracy(preds, targets):\n",
    "    preds = preds.sigmoid()\n",
    "    return ((preds>0.5)==targets).float().mean()"
   ]
  },
  {
   "cell_type": "markdown",
   "id": "bb8c789a-3c25-4cf2-9dd2-b4eafa571fdf",
   "metadata": {},
   "source": [
    "### 6. Validate epoch"
   ]
  },
  {
   "cell_type": "code",
   "execution_count": 22,
   "id": "5d648411-fa64-499f-9030-ef0e3a4de05e",
   "metadata": {},
   "outputs": [],
   "source": [
    "def validate_epoch(model):\n",
    "    accs = [batch_accuracy(model(xb), yb) for xb, yb in valid_dset]\n",
    "    return round(torch.stack(accs).mean().item(), 4)"
   ]
  },
  {
   "cell_type": "markdown",
   "id": "ca13d262-22db-489c-ad43-6d24412f56f5",
   "metadata": {},
   "source": [
    "Returns the accuracy for an entire epoch by getting accuracies of all batches in the epoch."
   ]
  },
  {
   "cell_type": "markdown",
   "id": "8c370cc2-4dab-40c4-a6eb-f27f17b29775",
   "metadata": {},
   "source": [
    "### 7. Optimizer"
   ]
  },
  {
   "cell_type": "code",
   "execution_count": 33,
   "id": "15345aa1-45bc-486c-9c69-296a6d8126f2",
   "metadata": {
    "tags": []
   },
   "outputs": [],
   "source": [
    "# Manual optimizing\n",
    "def calc_grad(xb, yb, model):\n",
    "        preds = model(xb)\n",
    "        loss = mnist_loss(preds, yb)\n",
    "        loss.backward()"
   ]
  },
  {
   "cell_type": "code",
   "execution_count": 34,
   "id": "f69279e2-6777-4851-81bb-587d84c8b73d",
   "metadata": {
    "tags": []
   },
   "outputs": [],
   "source": [
    "# An optimizer class (to be used later) that's modelled similar to the fastai optimizer class\n",
    "class BasicOptimizer:\n",
    "    def __init__(self, params, lr):\n",
    "        self.params, self.lr = list(params), lr\n",
    "        \n",
    "    def step(self):\n",
    "        for p in self.params:\n",
    "            p.data -= p.grad.data * self.lr\n",
    "            \n",
    "    def zero(self):\n",
    "        for p in self.params:\n",
    "            p.grad = None"
   ]
  },
  {
   "cell_type": "markdown",
   "id": "dc932d62-4cb9-46a9-a129-1cb10bfe718c",
   "metadata": {},
   "source": [
    "### 8. Train our model and explore existing PyTorch linear model"
   ]
  },
  {
   "cell_type": "code",
   "execution_count": 49,
   "id": "74db2249-5e64-4f29-8cf6-3d7df3ab12b4",
   "metadata": {
    "tags": []
   },
   "outputs": [],
   "source": [
    "params = weights, bias"
   ]
  },
  {
   "cell_type": "code",
   "execution_count": 25,
   "id": "1c0d64c2-c3bb-48c0-afef-6802ab558800",
   "metadata": {
    "tags": []
   },
   "outputs": [],
   "source": [
    "def train_epoch(model, lr, params):\n",
    "    for xb, yb in train_dl:\n",
    "        calc_grad(xb, yb, model)\n",
    "        for p in params:\n",
    "            p.data -= p.grad*lr\n",
    "            p.grad.zero_()"
   ]
  },
  {
   "cell_type": "code",
   "execution_count": 26,
   "id": "48fbc4d3-68f7-4ea7-9545-0095181eafbe",
   "metadata": {
    "tags": []
   },
   "outputs": [
    {
     "name": "stdout",
     "output_type": "stream",
     "text": [
      "0.8867 0.9244 0.9362 0.9495 0.9573 0.9612 0.9652 0.9642 0.9661 0.9657 0.9657 0.9681 0.9691 0.9696 0.9701 0.9696 0.9701 0.9701 0.9696 0.9696 "
     ]
    }
   ],
   "source": [
    "for i in range(20):\n",
    "    train_epoch(linear1, 1, params)\n",
    "    print(validate_epoch(linear1), end=\" \")"
   ]
  },
  {
   "cell_type": "markdown",
   "id": "a19946f6-e45c-47a0-8c98-ca9fe1050953",
   "metadata": {},
   "source": [
    "Using PyTorch's inbuilt model\n",
    "1. PyTorch's `nn.Linear`\n",
    "2. Use `BasicOptmizer` and make a new `train_epoch` and make a `train_model`"
   ]
  },
  {
   "cell_type": "code",
   "execution_count": 38,
   "id": "fc8e6f1a-ec52-4e2a-a1aa-853c0c107a67",
   "metadata": {
    "tags": []
   },
   "outputs": [],
   "source": [
    "linear_model = nn.Linear(28*28, 1)"
   ]
  },
  {
   "cell_type": "code",
   "execution_count": 39,
   "id": "4769fdbd-3f22-4242-beb9-0007e3ad75c6",
   "metadata": {
    "tags": []
   },
   "outputs": [],
   "source": [
    "optimizer = BasicOptimizer(linear_model.parameters(), 1)"
   ]
  },
  {
   "cell_type": "code",
   "execution_count": 40,
   "id": "26d68190-178e-4ba1-824e-1d4fd2d0df39",
   "metadata": {
    "tags": []
   },
   "outputs": [],
   "source": [
    "def train_epoch(model):\n",
    "    for xb, yb in train_dl:\n",
    "        calc_grad(xb, yb, model)\n",
    "        optimizer.step()\n",
    "        optimizer.zero()"
   ]
  },
  {
   "cell_type": "code",
   "execution_count": 41,
   "id": "1ff5e425-3b08-41bd-b5c1-f47ccb179b8c",
   "metadata": {
    "tags": []
   },
   "outputs": [],
   "source": [
    "def train_model(model, epochs):\n",
    "    for i in range(epochs):\n",
    "        train_epoch(model)\n",
    "        print(validate_epoch(model), end=\"; \")"
   ]
  },
  {
   "cell_type": "code",
   "execution_count": 32,
   "id": "065a02d3-40d2-4eec-82e8-d3d87b623f06",
   "metadata": {
    "tags": []
   },
   "outputs": [
    {
     "name": "stdout",
     "output_type": "stream",
     "text": [
      "0.975; 0.9789; 0.9809; 0.9814; 0.9794; 0.9799; 0.9838; 0.9823; 0.9814; 0.9823; "
     ]
    }
   ],
   "source": [
    "train_model(linear_model, 10)"
   ]
  },
  {
   "cell_type": "code",
   "execution_count": 43,
   "id": "88c5218f-15a6-4894-8d6e-28a318f02ab2",
   "metadata": {
    "tags": []
   },
   "outputs": [
    {
     "data": {
      "text/html": [
       "\n",
       "<style>\n",
       "    /* Turns off some styling */\n",
       "    progress {\n",
       "        /* gets rid of default border in Firefox and Opera. */\n",
       "        border: none;\n",
       "        /* Needs to be in here for Safari polyfill so background images work as expected. */\n",
       "        background-size: auto;\n",
       "    }\n",
       "    progress:not([value]), progress:not([value])::-webkit-progress-bar {\n",
       "        background: repeating-linear-gradient(45deg, #7e7e7e, #7e7e7e 10px, #5c5c5c 10px, #5c5c5c 20px);\n",
       "    }\n",
       "    .progress-bar-interrupted, .progress-bar-interrupted::-webkit-progress-bar {\n",
       "        background: #F44336;\n",
       "    }\n",
       "</style>\n"
      ],
      "text/plain": [
       "<IPython.core.display.HTML object>"
      ]
     },
     "metadata": {},
     "output_type": "display_data"
    },
    {
     "data": {
      "text/html": [
       "<table border=\"1\" class=\"dataframe\">\n",
       "  <thead>\n",
       "    <tr style=\"text-align: left;\">\n",
       "      <th>epoch</th>\n",
       "      <th>train_loss</th>\n",
       "      <th>valid_loss</th>\n",
       "      <th>batch_accuracy</th>\n",
       "      <th>time</th>\n",
       "    </tr>\n",
       "  </thead>\n",
       "  <tbody>\n",
       "    <tr>\n",
       "      <td>0</td>\n",
       "      <td>0.028274</td>\n",
       "      <td>0.029438</td>\n",
       "      <td>0.969578</td>\n",
       "      <td>00:00</td>\n",
       "    </tr>\n",
       "    <tr>\n",
       "      <td>1</td>\n",
       "      <td>0.024606</td>\n",
       "      <td>0.028701</td>\n",
       "      <td>0.969578</td>\n",
       "      <td>00:00</td>\n",
       "    </tr>\n",
       "    <tr>\n",
       "      <td>2</td>\n",
       "      <td>0.021246</td>\n",
       "      <td>0.023637</td>\n",
       "      <td>0.975466</td>\n",
       "      <td>00:00</td>\n",
       "    </tr>\n",
       "    <tr>\n",
       "      <td>3</td>\n",
       "      <td>0.016830</td>\n",
       "      <td>0.018251</td>\n",
       "      <td>0.981354</td>\n",
       "      <td>00:00</td>\n",
       "    </tr>\n",
       "    <tr>\n",
       "      <td>4</td>\n",
       "      <td>0.014179</td>\n",
       "      <td>0.023142</td>\n",
       "      <td>0.975957</td>\n",
       "      <td>00:00</td>\n",
       "    </tr>\n",
       "  </tbody>\n",
       "</table>"
      ],
      "text/plain": [
       "<IPython.core.display.HTML object>"
      ]
     },
     "metadata": {},
     "output_type": "display_data"
    }
   ],
   "source": [
    "learn = Learner(dls, linear_model, mnist_loss, lr=0.5, metrics=batch_accuracy)\n",
    "learn.fit(5)"
   ]
  },
  {
   "cell_type": "markdown",
   "id": "eded7576-424e-437b-9147-bdf3d19c67f0",
   "metadata": {},
   "source": [
    "Creating a simple neural net (technically, a deep learning model)\n",
    "- Use `nn.Sequential`. Pass different layers and their sizes in that."
   ]
  },
  {
   "cell_type": "code",
   "execution_count": 45,
   "id": "20296c12-ffd5-428c-acca-cece27d9e00a",
   "metadata": {
    "tags": []
   },
   "outputs": [],
   "source": [
    "simple_net = nn.Sequential(\n",
    "    nn.Linear(28*28, 30),\n",
    "    nn.ReLU(),\n",
    "    nn.Linear(30, 10),\n",
    "    nn.ReLU(),\n",
    "    nn.Linear(10, 1)\n",
    ")"
   ]
  },
  {
   "cell_type": "code",
   "execution_count": 52,
   "id": "4af2cf24-a97d-49b3-86fa-15cc84ab26e1",
   "metadata": {
    "tags": []
   },
   "outputs": [
    {
     "data": {
      "text/html": [
       "\n",
       "<style>\n",
       "    /* Turns off some styling */\n",
       "    progress {\n",
       "        /* gets rid of default border in Firefox and Opera. */\n",
       "        border: none;\n",
       "        /* Needs to be in here for Safari polyfill so background images work as expected. */\n",
       "        background-size: auto;\n",
       "    }\n",
       "    progress:not([value]), progress:not([value])::-webkit-progress-bar {\n",
       "        background: repeating-linear-gradient(45deg, #7e7e7e, #7e7e7e 10px, #5c5c5c 10px, #5c5c5c 20px);\n",
       "    }\n",
       "    .progress-bar-interrupted, .progress-bar-interrupted::-webkit-progress-bar {\n",
       "        background: #F44336;\n",
       "    }\n",
       "</style>\n"
      ],
      "text/plain": [
       "<IPython.core.display.HTML object>"
      ]
     },
     "metadata": {},
     "output_type": "display_data"
    },
    {
     "data": {
      "text/html": [
       "<table border=\"1\" class=\"dataframe\">\n",
       "  <thead>\n",
       "    <tr style=\"text-align: left;\">\n",
       "      <th>epoch</th>\n",
       "      <th>train_loss</th>\n",
       "      <th>valid_loss</th>\n",
       "      <th>batch_accuracy</th>\n",
       "      <th>time</th>\n",
       "    </tr>\n",
       "  </thead>\n",
       "  <tbody>\n",
       "    <tr>\n",
       "      <td>0</td>\n",
       "      <td>0.008643</td>\n",
       "      <td>0.011876</td>\n",
       "      <td>0.985280</td>\n",
       "      <td>00:02</td>\n",
       "    </tr>\n",
       "    <tr>\n",
       "      <td>1</td>\n",
       "      <td>0.008919</td>\n",
       "      <td>0.011824</td>\n",
       "      <td>0.985280</td>\n",
       "      <td>00:01</td>\n",
       "    </tr>\n",
       "    <tr>\n",
       "      <td>2</td>\n",
       "      <td>0.008564</td>\n",
       "      <td>0.011788</td>\n",
       "      <td>0.985770</td>\n",
       "      <td>00:00</td>\n",
       "    </tr>\n",
       "    <tr>\n",
       "      <td>3</td>\n",
       "      <td>0.008371</td>\n",
       "      <td>0.011766</td>\n",
       "      <td>0.985770</td>\n",
       "      <td>00:01</td>\n",
       "    </tr>\n",
       "    <tr>\n",
       "      <td>4</td>\n",
       "      <td>0.008501</td>\n",
       "      <td>0.011749</td>\n",
       "      <td>0.985770</td>\n",
       "      <td>00:00</td>\n",
       "    </tr>\n",
       "    <tr>\n",
       "      <td>5</td>\n",
       "      <td>0.008625</td>\n",
       "      <td>0.011736</td>\n",
       "      <td>0.985770</td>\n",
       "      <td>00:00</td>\n",
       "    </tr>\n",
       "    <tr>\n",
       "      <td>6</td>\n",
       "      <td>0.008760</td>\n",
       "      <td>0.011725</td>\n",
       "      <td>0.985770</td>\n",
       "      <td>00:00</td>\n",
       "    </tr>\n",
       "    <tr>\n",
       "      <td>7</td>\n",
       "      <td>0.008646</td>\n",
       "      <td>0.011708</td>\n",
       "      <td>0.986261</td>\n",
       "      <td>00:01</td>\n",
       "    </tr>\n",
       "    <tr>\n",
       "      <td>8</td>\n",
       "      <td>0.008378</td>\n",
       "      <td>0.011694</td>\n",
       "      <td>0.986261</td>\n",
       "      <td>00:00</td>\n",
       "    </tr>\n",
       "    <tr>\n",
       "      <td>9</td>\n",
       "      <td>0.008521</td>\n",
       "      <td>0.011678</td>\n",
       "      <td>0.986261</td>\n",
       "      <td>00:01</td>\n",
       "    </tr>\n",
       "    <tr>\n",
       "      <td>10</td>\n",
       "      <td>0.008495</td>\n",
       "      <td>0.011672</td>\n",
       "      <td>0.986261</td>\n",
       "      <td>00:01</td>\n",
       "    </tr>\n",
       "    <tr>\n",
       "      <td>11</td>\n",
       "      <td>0.008549</td>\n",
       "      <td>0.011665</td>\n",
       "      <td>0.986261</td>\n",
       "      <td>00:01</td>\n",
       "    </tr>\n",
       "    <tr>\n",
       "      <td>12</td>\n",
       "      <td>0.008747</td>\n",
       "      <td>0.011661</td>\n",
       "      <td>0.986261</td>\n",
       "      <td>00:00</td>\n",
       "    </tr>\n",
       "    <tr>\n",
       "      <td>13</td>\n",
       "      <td>0.008431</td>\n",
       "      <td>0.011658</td>\n",
       "      <td>0.986261</td>\n",
       "      <td>00:01</td>\n",
       "    </tr>\n",
       "    <tr>\n",
       "      <td>14</td>\n",
       "      <td>0.008579</td>\n",
       "      <td>0.011656</td>\n",
       "      <td>0.986261</td>\n",
       "      <td>00:00</td>\n",
       "    </tr>\n",
       "    <tr>\n",
       "      <td>15</td>\n",
       "      <td>0.008293</td>\n",
       "      <td>0.011653</td>\n",
       "      <td>0.986261</td>\n",
       "      <td>00:01</td>\n",
       "    </tr>\n",
       "    <tr>\n",
       "      <td>16</td>\n",
       "      <td>0.008385</td>\n",
       "      <td>0.011652</td>\n",
       "      <td>0.986261</td>\n",
       "      <td>00:01</td>\n",
       "    </tr>\n",
       "    <tr>\n",
       "      <td>17</td>\n",
       "      <td>0.008519</td>\n",
       "      <td>0.011649</td>\n",
       "      <td>0.986261</td>\n",
       "      <td>00:01</td>\n",
       "    </tr>\n",
       "    <tr>\n",
       "      <td>18</td>\n",
       "      <td>0.008361</td>\n",
       "      <td>0.011649</td>\n",
       "      <td>0.986261</td>\n",
       "      <td>00:01</td>\n",
       "    </tr>\n",
       "    <tr>\n",
       "      <td>19</td>\n",
       "      <td>0.008216</td>\n",
       "      <td>0.011647</td>\n",
       "      <td>0.986261</td>\n",
       "      <td>00:01</td>\n",
       "    </tr>\n",
       "  </tbody>\n",
       "</table>"
      ],
      "text/plain": [
       "<IPython.core.display.HTML object>"
      ]
     },
     "metadata": {},
     "output_type": "display_data"
    }
   ],
   "source": [
    "learn = Learner(dls, simple_net, opt_func=SGD, loss_func=mnist_loss, metrics=batch_accuracy)\n",
    "learn.fit(20, 0.1)"
   ]
  },
  {
   "cell_type": "code",
   "execution_count": 53,
   "id": "4cea1dcc-8a1a-4b0c-a198-7b7470a42d98",
   "metadata": {},
   "outputs": [
    {
     "data": {
      "image/png": "[encoded data removed]",
      "text/plain": [
       "<Figure size 640x480 with 1 Axes>"
      ]
     },
     "metadata": {},
     "output_type": "display_data"
    }
   ],
   "source": [
    "plt.plot(L(learn.recorder.values).itemgot(2));"
   ]
  },
  {
   "cell_type": "markdown",
   "id": "9295035a-51ef-4861-a22d-8d9aec03d13f",
   "metadata": {},
   "source": []
  }
 ],
 "metadata": {
  "kernelspec": {
   "display_name": "Python 3 (ipykernel)",
   "language": "python",
   "name": "python3"
  },
  "language_info": {
   "codemirror_mode": {
    "name": "ipython",
    "version": 3
   },
   "file_extension": ".py",
   "mimetype": "text/x-python",
   "name": "python",
   "nbconvert_exporter": "python",
   "pygments_lexer": "ipython3",
   "version": "3.10.12"
  }
 },
 "nbformat": 4,
 "nbformat_minor": 5
}
